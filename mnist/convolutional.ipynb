{
 "cells": [
  {
   "cell_type": "code",
   "execution_count": 1,
   "metadata": {},
   "outputs": [
    {
     "name": "stderr",
     "output_type": "stream",
     "text": [
      "/usr/lib/python3.7/site-packages/tensorflow/python/framework/dtypes.py:516: FutureWarning: Passing (type, 1) or '1type' as a synonym of type is deprecated; in a future version of numpy, it will be understood as (type, (1,)) / '(1,)type'.\n",
      "  _np_qint8 = np.dtype([(\"qint8\", np.int8, 1)])\n",
      "/usr/lib/python3.7/site-packages/tensorflow/python/framework/dtypes.py:517: FutureWarning: Passing (type, 1) or '1type' as a synonym of type is deprecated; in a future version of numpy, it will be understood as (type, (1,)) / '(1,)type'.\n",
      "  _np_quint8 = np.dtype([(\"quint8\", np.uint8, 1)])\n",
      "/usr/lib/python3.7/site-packages/tensorflow/python/framework/dtypes.py:518: FutureWarning: Passing (type, 1) or '1type' as a synonym of type is deprecated; in a future version of numpy, it will be understood as (type, (1,)) / '(1,)type'.\n",
      "  _np_qint16 = np.dtype([(\"qint16\", np.int16, 1)])\n",
      "/usr/lib/python3.7/site-packages/tensorflow/python/framework/dtypes.py:519: FutureWarning: Passing (type, 1) or '1type' as a synonym of type is deprecated; in a future version of numpy, it will be understood as (type, (1,)) / '(1,)type'.\n",
      "  _np_quint16 = np.dtype([(\"quint16\", np.uint16, 1)])\n",
      "/usr/lib/python3.7/site-packages/tensorflow/python/framework/dtypes.py:520: FutureWarning: Passing (type, 1) or '1type' as a synonym of type is deprecated; in a future version of numpy, it will be understood as (type, (1,)) / '(1,)type'.\n",
      "  _np_qint32 = np.dtype([(\"qint32\", np.int32, 1)])\n",
      "/usr/lib/python3.7/site-packages/tensorflow/python/framework/dtypes.py:525: FutureWarning: Passing (type, 1) or '1type' as a synonym of type is deprecated; in a future version of numpy, it will be understood as (type, (1,)) / '(1,)type'.\n",
      "  np_resource = np.dtype([(\"resource\", np.ubyte, 1)])\n",
      "/usr/lib/python3.7/site-packages/tensorboard/compat/tensorflow_stub/dtypes.py:541: FutureWarning: Passing (type, 1) or '1type' as a synonym of type is deprecated; in a future version of numpy, it will be understood as (type, (1,)) / '(1,)type'.\n",
      "  _np_qint8 = np.dtype([(\"qint8\", np.int8, 1)])\n",
      "/usr/lib/python3.7/site-packages/tensorboard/compat/tensorflow_stub/dtypes.py:542: FutureWarning: Passing (type, 1) or '1type' as a synonym of type is deprecated; in a future version of numpy, it will be understood as (type, (1,)) / '(1,)type'.\n",
      "  _np_quint8 = np.dtype([(\"quint8\", np.uint8, 1)])\n",
      "/usr/lib/python3.7/site-packages/tensorboard/compat/tensorflow_stub/dtypes.py:543: FutureWarning: Passing (type, 1) or '1type' as a synonym of type is deprecated; in a future version of numpy, it will be understood as (type, (1,)) / '(1,)type'.\n",
      "  _np_qint16 = np.dtype([(\"qint16\", np.int16, 1)])\n",
      "/usr/lib/python3.7/site-packages/tensorboard/compat/tensorflow_stub/dtypes.py:544: FutureWarning: Passing (type, 1) or '1type' as a synonym of type is deprecated; in a future version of numpy, it will be understood as (type, (1,)) / '(1,)type'.\n",
      "  _np_quint16 = np.dtype([(\"quint16\", np.uint16, 1)])\n",
      "/usr/lib/python3.7/site-packages/tensorboard/compat/tensorflow_stub/dtypes.py:545: FutureWarning: Passing (type, 1) or '1type' as a synonym of type is deprecated; in a future version of numpy, it will be understood as (type, (1,)) / '(1,)type'.\n",
      "  _np_qint32 = np.dtype([(\"qint32\", np.int32, 1)])\n",
      "/usr/lib/python3.7/site-packages/tensorboard/compat/tensorflow_stub/dtypes.py:550: FutureWarning: Passing (type, 1) or '1type' as a synonym of type is deprecated; in a future version of numpy, it will be understood as (type, (1,)) / '(1,)type'.\n",
      "  np_resource = np.dtype([(\"resource\", np.ubyte, 1)])\n",
      "Using TensorFlow backend.\n"
     ]
    }
   ],
   "source": [
    "import numpy as np\n",
    "import pandas as pd\n",
    "import matplotlib.pyplot as plt\n",
    "import tensorflow as tf\n",
    "#import tensorflow_datasets as tf_datasets\n",
    "import sklearn\n",
    "import seaborn as sns\n",
    "import os\n",
    "import datetime\n",
    "import keras\n",
    "\n",
    "%load_ext tensorboard"
   ]
  },
  {
   "cell_type": "code",
   "execution_count": 2,
   "metadata": {},
   "outputs": [],
   "source": [
    "# get the data set\n",
    "#mnist_builder = tf_datasets.image.mnist.MNIST()\n",
    "#mnist_builder.download_and_prepare()\n",
    "#mnist = mnist_builder.as_dataset()\n",
    "mnist = keras.datasets.mnist.load_data()\n",
    "#mnist"
   ]
  },
  {
   "cell_type": "code",
   "execution_count": 3,
   "metadata": {},
   "outputs": [
    {
     "name": "stdout",
     "output_type": "stream",
     "text": [
      "(60000, 28, 28)\n",
      "(60000,)\n",
      "(10000, 28, 28)\n",
      "(10000,)\n"
     ]
    }
   ],
   "source": [
    "mnist_X_train = np.array(mnist[0][0]) / 255\n",
    "mnist_y_train = np.array(mnist[0][1])\n",
    "mnist_X_test = np.array(mnist[1][0]) / 255\n",
    "mnist_y_test = np.array(mnist[1][1])\n",
    "\n",
    "print(mnist_X_train.shape)\n",
    "print(mnist_y_train.shape)\n",
    "print(mnist_X_test.shape)\n",
    "print(mnist_y_test.shape)"
   ]
  },
  {
   "cell_type": "code",
   "execution_count": 4,
   "metadata": {},
   "outputs": [
    {
     "name": "stdout",
     "output_type": "stream",
     "text": [
      "1.0\n"
     ]
    },
    {
     "data": {
      "image/png": "[encoded data removed]",
      "text/plain": [
       "<Figure size 432x288 with 1 Axes>"
      ]
     },
     "metadata": {
      "needs_background": "light"
     },
     "output_type": "display_data"
    }
   ],
   "source": [
    "plt.imshow(mnist_X_train[0, :].reshape(28, 28))\n",
    "print(max(mnist_X_train[0, :, :].reshape(-1)))"
   ]
  },
  {
   "cell_type": "code",
   "execution_count": 5,
   "metadata": {},
   "outputs": [],
   "source": [
    "encoding_size = 30"
   ]
  },
  {
   "cell_type": "code",
   "execution_count": 6,
   "metadata": {},
   "outputs": [],
   "source": [
    "logdir = './tb_logs'\n",
    "tensorboard_callback = keras.callbacks.TensorBoard(logdir, histogram_freq=1)"
   ]
  },
  {
   "cell_type": "code",
   "execution_count": 7,
   "metadata": {},
   "outputs": [
    {
     "name": "stdout",
     "output_type": "stream",
     "text": [
      "WARNING:tensorflow:From /usr/lib/python3.7/site-packages/keras/backend/tensorflow_backend.py:74: The name tf.get_default_graph is deprecated. Please use tf.compat.v1.get_default_graph instead.\n",
      "\n",
      "WARNING:tensorflow:From /usr/lib/python3.7/site-packages/keras/backend/tensorflow_backend.py:517: The name tf.placeholder is deprecated. Please use tf.compat.v1.placeholder instead.\n",
      "\n",
      "WARNING:tensorflow:From /usr/lib/python3.7/site-packages/keras/backend/tensorflow_backend.py:4138: The name tf.random_uniform is deprecated. Please use tf.random.uniform instead.\n",
      "\n",
      "WARNING:tensorflow:From /usr/lib/python3.7/site-packages/keras/backend/tensorflow_backend.py:3976: The name tf.nn.max_pool is deprecated. Please use tf.nn.max_pool2d instead.\n",
      "\n",
      "WARNING:tensorflow:From /usr/lib/python3.7/site-packages/keras/optimizers.py:790: The name tf.train.Optimizer is deprecated. Please use tf.compat.v1.train.Optimizer instead.\n",
      "\n",
      "WARNING:tensorflow:From /usr/lib/python3.7/site-packages/keras/backend/tensorflow_backend.py:3376: The name tf.log is deprecated. Please use tf.math.log instead.\n",
      "\n",
      "WARNING:tensorflow:From /usr/lib/python3.7/site-packages/tensorflow/python/ops/nn_impl.py:180: add_dispatch_support.<locals>.wrapper (from tensorflow.python.ops.array_ops) is deprecated and will be removed in a future version.\n",
      "Instructions for updating:\n",
      "Use tf.where in 2.0, which has the same broadcast rule as np.where\n"
     ]
    }
   ],
   "source": [
    "# Simple dense layer model\n",
    "\n",
    "enc_input = l = keras.layers.Input(shape=(28, 28, 1))\n",
    "l = keras.layers.Conv2D(16, (4, 4), activation='relu', padding='same')(l)\n",
    "l = keras.layers.MaxPooling2D((3, 3), padding='same')(l)\n",
    "l = keras.layers.Conv2D(16, (3, 3), activation='relu', padding='same')(l)\n",
    "l = keras.layers.MaxPooling2D((2, 2), padding='same')(l)\n",
    "l = keras.layers.Flatten()(l)\n",
    "l = keras.layers.Dense(encoding_size, activation='tanh')(l)\n",
    "encoder = keras.models.Model(inputs=enc_input, outputs=l)\n",
    "\n",
    "dec_input = l = keras.layers.Input(shape=(encoding_size,))\n",
    "l = keras.layers.Dense(28*28, activation='relu')(l)\n",
    "l = keras.layers.Reshape(target_shape=(28, 28, 1))(l)\n",
    "l = keras.layers.Conv2D(16, (4, 4), activation='relu', padding='same')(l)\n",
    "l = keras.layers.MaxPooling2D((3, 3), padding='same')(l)\n",
    "l = keras.layers.Conv2D(16, (3, 3), activation='relu', padding='same')(l)\n",
    "l = keras.layers.MaxPooling2D((2, 2), padding='same')(l)\n",
    "l = keras.layers.Flatten()(l)\n",
    "l = keras.layers.Dense(28*28, activation='sigmoid')(l)\n",
    "l = keras.layers.Reshape(target_shape=(28, 28))(l)\n",
    "decoder = keras.models.Model(inputs=dec_input, outputs=l)\n",
    "\n",
    "autocoder = keras.models.Model(inputs=enc_input, outputs=decoder(encoder(enc_input)))\n",
    "\n",
    "autocoder.compile(optimizer='adadelta', loss='binary_crossentropy')"
   ]
  },
  {
   "cell_type": "code",
   "execution_count": 8,
   "metadata": {},
   "outputs": [
    {
     "name": "stdout",
     "output_type": "stream",
     "text": [
      "WARNING:tensorflow:From /usr/lib/python3.7/site-packages/keras/backend/tensorflow_backend.py:986: The name tf.assign_add is deprecated. Please use tf.compat.v1.assign_add instead.\n",
      "\n",
      "Train on 60000 samples, validate on 10000 samples\n",
      "Epoch 1/50\n",
      "60000/60000 [==============================] - 13s 209us/step - loss: 0.4147 - val_loss: 0.2637\n",
      "Epoch 2/50\n",
      "60000/60000 [==============================] - 12s 192us/step - loss: 0.2630 - val_loss: 0.2629\n",
      "Epoch 3/50\n",
      "60000/60000 [==============================] - 12s 199us/step - loss: 0.2613 - val_loss: 0.2602\n",
      "Epoch 4/50\n",
      "60000/60000 [==============================] - 13s 213us/step - loss: 0.2568 - val_loss: 0.2527\n",
      "Epoch 5/50\n",
      "60000/60000 [==============================] - 13s 215us/step - loss: 0.2496 - val_loss: 0.2456\n",
      "Epoch 6/50\n",
      "60000/60000 [==============================] - 13s 220us/step - loss: 0.2444 - val_loss: 0.2410\n",
      "Epoch 7/50\n",
      "60000/60000 [==============================] - 13s 220us/step - loss: 0.2375 - val_loss: 0.2359\n",
      "Epoch 8/50\n",
      "60000/60000 [==============================] - 13s 217us/step - loss: 0.2329 - val_loss: 0.2324\n",
      "Epoch 9/50\n",
      "60000/60000 [==============================] - 12s 206us/step - loss: 0.2298 - val_loss: 0.2288\n",
      "Epoch 10/50\n",
      "60000/60000 [==============================] - 12s 200us/step - loss: 0.2271 - val_loss: 0.2270\n",
      "Epoch 11/50\n",
      "60000/60000 [==============================] - 12s 200us/step - loss: 0.2229 - val_loss: 0.2207\n",
      "Epoch 12/50\n",
      "60000/60000 [==============================] - 12s 200us/step - loss: 0.2175 - val_loss: 0.2176\n",
      "Epoch 13/50\n",
      "60000/60000 [==============================] - 12s 201us/step - loss: 0.2120 - val_loss: 0.2076\n",
      "Epoch 14/50\n",
      "60000/60000 [==============================] - 12s 198us/step - loss: 0.2049 - val_loss: 0.2015\n",
      "Epoch 15/50\n",
      "60000/60000 [==============================] - 12s 197us/step - loss: 0.1994 - val_loss: 0.1973\n",
      "Epoch 16/50\n",
      "60000/60000 [==============================] - 12s 200us/step - loss: 0.1944 - val_loss: 0.1947\n",
      "Epoch 17/50\n",
      "60000/60000 [==============================] - 13s 213us/step - loss: 0.1897 - val_loss: 0.1857\n",
      "Epoch 18/50\n",
      "60000/60000 [==============================] - 13s 211us/step - loss: 0.1847 - val_loss: 0.1832\n",
      "Epoch 19/50\n",
      "60000/60000 [==============================] - 12s 202us/step - loss: 0.1806 - val_loss: 0.1765\n",
      "Epoch 20/50\n",
      "60000/60000 [==============================] - 13s 213us/step - loss: 0.1767 - val_loss: 0.1735\n",
      "Epoch 21/50\n",
      "60000/60000 [==============================] - 13s 211us/step - loss: 0.1740 - val_loss: 0.1718\n",
      "Epoch 22/50\n",
      "60000/60000 [==============================] - 13s 212us/step - loss: 0.1714 - val_loss: 0.1696\n",
      "Epoch 23/50\n",
      "60000/60000 [==============================] - 13s 211us/step - loss: 0.1692 - val_loss: 0.1662\n",
      "Epoch 24/50\n",
      "60000/60000 [==============================] - 12s 193us/step - loss: 0.1666 - val_loss: 0.1678\n",
      "Epoch 25/50\n",
      "60000/60000 [==============================] - 13s 210us/step - loss: 0.1648 - val_loss: 0.1647\n",
      "Epoch 26/50\n",
      "60000/60000 [==============================] - 12s 205us/step - loss: 0.1627 - val_loss: 0.1603\n",
      "Epoch 27/50\n",
      "60000/60000 [==============================] - 12s 202us/step - loss: 0.1606 - val_loss: 0.1588\n",
      "Epoch 28/50\n",
      "60000/60000 [==============================] - 12s 204us/step - loss: 0.1588 - val_loss: 0.1556\n",
      "Epoch 29/50\n",
      "60000/60000 [==============================] - 12s 204us/step - loss: 0.1572 - val_loss: 0.1580\n",
      "Epoch 30/50\n",
      "60000/60000 [==============================] - 12s 201us/step - loss: 0.1557 - val_loss: 0.1533\n",
      "Epoch 31/50\n",
      "60000/60000 [==============================] - 12s 200us/step - loss: 0.1538 - val_loss: 0.1503\n",
      "Epoch 32/50\n",
      "60000/60000 [==============================] - 12s 202us/step - loss: 0.1523 - val_loss: 0.1509\n",
      "Epoch 33/50\n",
      "60000/60000 [==============================] - 12s 205us/step - loss: 0.1512 - val_loss: 0.1471\n",
      "Epoch 34/50\n",
      "60000/60000 [==============================] - 12s 206us/step - loss: 0.1494 - val_loss: 0.1466\n",
      "Epoch 35/50\n",
      "60000/60000 [==============================] - 12s 202us/step - loss: 0.1481 - val_loss: 0.1453\n",
      "Epoch 36/50\n",
      "60000/60000 [==============================] - 12s 202us/step - loss: 0.1468 - val_loss: 0.1484\n",
      "Epoch 37/50\n",
      "60000/60000 [==============================] - 12s 206us/step - loss: 0.1456 - val_loss: 0.1448\n",
      "Epoch 38/50\n",
      "60000/60000 [==============================] - 12s 204us/step - loss: 0.1444 - val_loss: 0.1431\n",
      "Epoch 39/50\n",
      "60000/60000 [==============================] - 12s 202us/step - loss: 0.1432 - val_loss: 0.1399\n",
      "Epoch 40/50\n",
      "60000/60000 [==============================] - 12s 202us/step - loss: 0.1423 - val_loss: 0.1386\n",
      "Epoch 41/50\n",
      "60000/60000 [==============================] - 12s 202us/step - loss: 0.1413 - val_loss: 0.1395\n",
      "Epoch 42/50\n",
      "60000/60000 [==============================] - 12s 204us/step - loss: 0.1403 - val_loss: 0.1385\n",
      "Epoch 43/50\n",
      "60000/60000 [==============================] - 12s 204us/step - loss: 0.1396 - val_loss: 0.1363\n",
      "Epoch 44/50\n",
      "60000/60000 [==============================] - 12s 201us/step - loss: 0.1387 - val_loss: 0.1379\n",
      "Epoch 45/50\n",
      "60000/60000 [==============================] - 12s 203us/step - loss: 0.1381 - val_loss: 0.1366\n",
      "Epoch 46/50\n",
      "60000/60000 [==============================] - 12s 201us/step - loss: 0.1370 - val_loss: 0.1370\n",
      "Epoch 47/50\n",
      "60000/60000 [==============================] - 12s 202us/step - loss: 0.1364 - val_loss: 0.1337\n",
      "Epoch 48/50\n",
      "60000/60000 [==============================] - 12s 200us/step - loss: 0.1356 - val_loss: 0.1329\n",
      "Epoch 49/50\n",
      "60000/60000 [==============================] - 12s 206us/step - loss: 0.1348 - val_loss: 0.1319\n",
      "Epoch 50/50\n",
      "60000/60000 [==============================] - 12s 202us/step - loss: 0.1342 - val_loss: 0.1324\n"
     ]
    },
    {
     "data": {
      "text/plain": [
       "<keras.callbacks.History at 0x7fdfd62aeed0>"
      ]
     },
     "execution_count": 8,
     "metadata": {},
     "output_type": "execute_result"
    }
   ],
   "source": [
    "autocoder.fit(\n",
    "    mnist_X_train.reshape(-1, 28, 28, 1),\n",
    "    mnist_X_train,\n",
    "    epochs=50, \n",
    "    batch_size=512,\n",
    "    shuffle=True, \n",
    "    validation_data=(mnist_X_test.reshape(-1, 28, 28, 1), mnist_X_test)\n",
    ")"
   ]
  },
  {
   "cell_type": "code",
   "execution_count": null,
   "metadata": {},
   "outputs": [],
   "source": []
  },
  {
   "cell_type": "code",
   "execution_count": 15,
   "metadata": {},
   "outputs": [
    {
     "data": {
      "image/png": "[encoded data removed]",
      "text/plain": [
       "<Figure size 1080x576 with 15 Axes>"
      ]
     },
     "metadata": {
      "needs_background": "light"
     },
     "output_type": "display_data"
    }
   ],
   "source": [
    "plt.figure(figsize=(15, 8))\n",
    "\n",
    "n = 5\n",
    "\n",
    "for i, j in zip(range(n), np.random.randint(0, 10000, size=n)):\n",
    "    original = mnist_X_test[j, :]\n",
    "    encoded = encoder.predict(original.reshape(1, 28, 28, 1))[0]\n",
    "    decoded = decoder.predict(encoded.reshape(1, -1))[0]\n",
    "    \n",
    "    plt.subplot(3, n, i+1)\n",
    "    plt.imshow(original)\n",
    "    \n",
    "    plt.subplot(3, n, i+n+1)\n",
    "    plt.imshow(encoded.reshape(1, -1))\n",
    "\n",
    "    plt.subplot(3, n, i+n+n+1)\n",
    "    plt.imshow(decoded)"
   ]
  },
  {
   "cell_type": "code",
   "execution_count": 10,
   "metadata": {},
   "outputs": [
    {
     "data": {
      "text/plain": [
       "MinMaxScaler(copy=True, feature_range=(0, 1))"
      ]
     },
     "execution_count": 10,
     "metadata": {},
     "output_type": "execute_result"
    }
   ],
   "source": [
    "import sklearn.decomposition\n",
    "\n",
    "# Compute PCA\n",
    "encoded_train_images = encoder.predict(mnist_X_train.reshape(-1, 28, 28, 1))\n",
    "encoded_test_images = encoder.predict(mnist_X_test.reshape(-1, 28, 28, 1))\n",
    "\n",
    "pca = sklearn.decomposition.PCA(n_components=encoding_size)\n",
    "pca.fit(encoded_train_images)\n",
    "\n",
    "pca_train_images = pca.transform(encoded_train_images)\n",
    "\n",
    "minmax = sklearn.preprocessing.MinMaxScaler()\n",
    "minmax.fit(pca_train_images)"
   ]
  },
  {
   "cell_type": "code",
   "execution_count": 11,
   "metadata": {},
   "outputs": [
    {
     "data": {
      "application/vnd.jupyter.widget-view+json": {
       "model_id": "1d2f20d2336749d6b0037a14a542332e",
       "version_major": 2,
       "version_minor": 0
      },
      "text/plain": [
       "interactive(children=(FloatSlider(value=0.0, continuous_update=False, description='x1', max=1.0, min=-1.0, ste…"
      ]
     },
     "metadata": {},
     "output_type": "display_data"
    }
   ],
   "source": [
    "import ipywidgets\n",
    "\n",
    "def draw_pca(x1, x2, x3, x4, x5, x6, x7, x8, x9, x10):\n",
    "    vec = np.array([x1, x2, x3, x4, x5, x6, x7, x8, x9, x10]).reshape(1, -1)\n",
    "    plt.imshow(decoder.predict(pca.inverse_transform(vec)).reshape(28, 28))\n",
    "\n",
    "ipywidgets.interact(draw_pca, \n",
    "         x1=ipywidgets.FloatSlider(min=-1, max=1, step=0.01, continuous_update=False),\n",
    "         x2=ipywidgets.FloatSlider(min=-1, max=1, step=0.01, continuous_update=False),\n",
    "         x3=ipywidgets.FloatSlider(min=-1, max=1, step=0.01, continuous_update=False),\n",
    "         x4=ipywidgets.FloatSlider(min=-1, max=1, step=0.01, continuous_update=False),\n",
    "         x5=ipywidgets.FloatSlider(min=-1, max=1, step=0.01, continuous_update=False),\n",
    "         x6=ipywidgets.FloatSlider(min=-1, max=1, step=0.01, continuous_update=False),\n",
    "         x7=ipywidgets.FloatSlider(min=-1, max=1, step=0.01, continuous_update=False),\n",
    "         x8=ipywidgets.FloatSlider(min=-1, max=1, step=0.01, continuous_update=False),\n",
    "         x9=ipywidgets.FloatSlider(min=-1, max=1, step=0.01, continuous_update=False),\n",
    "         x10=ipywidgets.FloatSlider(min=-1, max=1, step=0.01, continuous_update=False));"
   ]
  },
  {
   "cell_type": "code",
   "execution_count": 12,
   "metadata": {},
   "outputs": [
    {
     "data": {
      "text/plain": [
       "array([ 0.95041746, -0.5332656 ,  0.67426383,  0.8609012 , -0.8567779 ,\n",
       "       -0.10896027,  0.15888795,  0.9851745 , -0.9659699 , -0.3709423 ,\n",
       "        0.06782956, -0.34020323,  0.01921606, -0.46942088,  0.29866397,\n",
       "        0.24760482, -0.12275291,  0.5420984 , -0.67346805, -0.65949893,\n",
       "        0.7931838 , -0.34263492, -0.13482721,  0.1814573 ,  0.7109149 ,\n",
       "       -0.8306823 ,  0.8020385 ,  0.40611514, -0.89931315,  0.3020545 ],\n",
       "      dtype=float32)"
      ]
     },
     "execution_count": 12,
     "metadata": {},
     "output_type": "execute_result"
    }
   ],
   "source": [
    "v = encoded_train_images[2]\n",
    "v"
   ]
  },
  {
   "cell_type": "code",
   "execution_count": 13,
   "metadata": {},
   "outputs": [
    {
     "data": {
      "text/plain": [
       "array([[ 3.38894486e-01,  1.37974715e+00, -7.36619234e-02,\n",
       "        -8.35356116e-01,  7.16469884e-01, -2.26083286e-02,\n",
       "         1.07317567e+00,  1.44650325e-01, -2.78333098e-01,\n",
       "        -1.87531888e-01, -4.78217423e-01, -2.56015837e-01,\n",
       "        -2.09116682e-01,  7.89631665e-01, -1.50887609e-01,\n",
       "         1.44062519e-01, -1.31708920e-01, -1.05177112e-01,\n",
       "         1.30380690e-01,  2.77597845e-01,  1.49128780e-01,\n",
       "         1.15251355e-01,  1.23148449e-01,  2.33863041e-01,\n",
       "         7.92402774e-04, -1.99091453e-02,  4.82408330e-03,\n",
       "         4.43885699e-02,  6.95184097e-02, -1.49398884e-02]], dtype=float32)"
      ]
     },
     "execution_count": 13,
     "metadata": {},
     "output_type": "execute_result"
    }
   ],
   "source": [
    "v2 = pca.transform(v.reshape(1, -1))\n",
    "v2"
   ]
  },
  {
   "cell_type": "code",
   "execution_count": 14,
   "metadata": {},
   "outputs": [
    {
     "data": {
      "text/plain": [
       "<matplotlib.image.AxesImage at 0x7fdfbc59ce10>"
      ]
     },
     "execution_count": 14,
     "metadata": {},
     "output_type": "execute_result"
    },
    {
     "data": {
      "image/png": "[encoded data removed]",
      "text/plain": [
       "<Figure size 432x288 with 1 Axes>"
      ]
     },
     "metadata": {
      "needs_background": "light"
     },
     "output_type": "display_data"
    }
   ],
   "source": [
    "plt.imshow(decoder.predict(pca.inverse_transform(v2))[0])"
   ]
  },
  {
   "cell_type": "code",
   "execution_count": null,
   "metadata": {},
   "outputs": [],
   "source": []
  },
  {
   "cell_type": "code",
   "execution_count": null,
   "metadata": {},
   "outputs": [],
   "source": []
  }
 ],
 "metadata": {
  "kernelspec": {
   "display_name": "Python 3",
   "language": "python",
   "name": "python3"
  },
  "language_info": {
   "codemirror_mode": {
    "name": "ipython",
    "version": 3
   },
   "file_extension": ".py",
   "mimetype": "text/x-python",
   "name": "python",
   "nbconvert_exporter": "python",
   "pygments_lexer": "ipython3",
   "version": "3.7.4"
  }
 },
 "nbformat": 4,
 "nbformat_minor": 2
}
