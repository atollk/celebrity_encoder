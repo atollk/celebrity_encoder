{
 "cells": [
  {
   "cell_type": "code",
   "execution_count": 1,
   "metadata": {},
   "outputs": [
    {
     "name": "stderr",
     "output_type": "stream",
     "text": [
      "/home/wurst/anaconda3/envs/tensorflow/lib/python3.6/site-packages/tensorflow/python/framework/dtypes.py:516: FutureWarning: Passing (type, 1) or '1type' as a synonym of type is deprecated; in a future version of numpy, it will be understood as (type, (1,)) / '(1,)type'.\n",
      "  _np_qint8 = np.dtype([(\"qint8\", np.int8, 1)])\n",
      "/home/wurst/anaconda3/envs/tensorflow/lib/python3.6/site-packages/tensorflow/python/framework/dtypes.py:517: FutureWarning: Passing (type, 1) or '1type' as a synonym of type is deprecated; in a future version of numpy, it will be understood as (type, (1,)) / '(1,)type'.\n",
      "  _np_quint8 = np.dtype([(\"quint8\", np.uint8, 1)])\n",
      "/home/wurst/anaconda3/envs/tensorflow/lib/python3.6/site-packages/tensorflow/python/framework/dtypes.py:518: FutureWarning: Passing (type, 1) or '1type' as a synonym of type is deprecated; in a future version of numpy, it will be understood as (type, (1,)) / '(1,)type'.\n",
      "  _np_qint16 = np.dtype([(\"qint16\", np.int16, 1)])\n",
      "/home/wurst/anaconda3/envs/tensorflow/lib/python3.6/site-packages/tensorflow/python/framework/dtypes.py:519: FutureWarning: Passing (type, 1) or '1type' as a synonym of type is deprecated; in a future version of numpy, it will be understood as (type, (1,)) / '(1,)type'.\n",
      "  _np_quint16 = np.dtype([(\"quint16\", np.uint16, 1)])\n",
      "/home/wurst/anaconda3/envs/tensorflow/lib/python3.6/site-packages/tensorflow/python/framework/dtypes.py:520: FutureWarning: Passing (type, 1) or '1type' as a synonym of type is deprecated; in a future version of numpy, it will be understood as (type, (1,)) / '(1,)type'.\n",
      "  _np_qint32 = np.dtype([(\"qint32\", np.int32, 1)])\n",
      "/home/wurst/anaconda3/envs/tensorflow/lib/python3.6/site-packages/tensorflow/python/framework/dtypes.py:525: FutureWarning: Passing (type, 1) or '1type' as a synonym of type is deprecated; in a future version of numpy, it will be understood as (type, (1,)) / '(1,)type'.\n",
      "  np_resource = np.dtype([(\"resource\", np.ubyte, 1)])\n",
      "/home/wurst/.local/lib/python3.6/site-packages/tensorboard/compat/tensorflow_stub/dtypes.py:541: FutureWarning: Passing (type, 1) or '1type' as a synonym of type is deprecated; in a future version of numpy, it will be understood as (type, (1,)) / '(1,)type'.\n",
      "  _np_qint8 = np.dtype([(\"qint8\", np.int8, 1)])\n",
      "/home/wurst/.local/lib/python3.6/site-packages/tensorboard/compat/tensorflow_stub/dtypes.py:542: FutureWarning: Passing (type, 1) or '1type' as a synonym of type is deprecated; in a future version of numpy, it will be understood as (type, (1,)) / '(1,)type'.\n",
      "  _np_quint8 = np.dtype([(\"quint8\", np.uint8, 1)])\n",
      "/home/wurst/.local/lib/python3.6/site-packages/tensorboard/compat/tensorflow_stub/dtypes.py:543: FutureWarning: Passing (type, 1) or '1type' as a synonym of type is deprecated; in a future version of numpy, it will be understood as (type, (1,)) / '(1,)type'.\n",
      "  _np_qint16 = np.dtype([(\"qint16\", np.int16, 1)])\n",
      "/home/wurst/.local/lib/python3.6/site-packages/tensorboard/compat/tensorflow_stub/dtypes.py:544: FutureWarning: Passing (type, 1) or '1type' as a synonym of type is deprecated; in a future version of numpy, it will be understood as (type, (1,)) / '(1,)type'.\n",
      "  _np_quint16 = np.dtype([(\"quint16\", np.uint16, 1)])\n",
      "/home/wurst/.local/lib/python3.6/site-packages/tensorboard/compat/tensorflow_stub/dtypes.py:545: FutureWarning: Passing (type, 1) or '1type' as a synonym of type is deprecated; in a future version of numpy, it will be understood as (type, (1,)) / '(1,)type'.\n",
      "  _np_qint32 = np.dtype([(\"qint32\", np.int32, 1)])\n",
      "/home/wurst/.local/lib/python3.6/site-packages/tensorboard/compat/tensorflow_stub/dtypes.py:550: FutureWarning: Passing (type, 1) or '1type' as a synonym of type is deprecated; in a future version of numpy, it will be understood as (type, (1,)) / '(1,)type'.\n",
      "  np_resource = np.dtype([(\"resource\", np.ubyte, 1)])\n",
      "Using TensorFlow backend.\n"
     ]
    }
   ],
   "source": [
    "import numpy as np\n",
    "import pandas as pd\n",
    "import matplotlib.pyplot as plt\n",
    "import tensorflow as tf\n",
    "#import tensorflow_datasets as tf_datasets\n",
    "import sklearn\n",
    "import seaborn as sns\n",
    "import os\n",
    "import datetime\n",
    "import keras\n",
    "\n",
    "%load_ext tensorboard"
   ]
  },
  {
   "cell_type": "code",
   "execution_count": 2,
   "metadata": {},
   "outputs": [],
   "source": [
    "# get the data set\n",
    "#mnist_builder = tf_datasets.image.mnist.MNIST()\n",
    "#mnist_builder.download_and_prepare()\n",
    "#mnist = mnist_builder.as_dataset()\n",
    "mnist = keras.datasets.mnist.load_data()\n",
    "#mnist"
   ]
  },
  {
   "cell_type": "code",
   "execution_count": 3,
   "metadata": {},
   "outputs": [
    {
     "name": "stdout",
     "output_type": "stream",
     "text": [
      "(60000, 28, 28)\n",
      "(60000,)\n",
      "(10000, 28, 28)\n",
      "(10000,)\n"
     ]
    }
   ],
   "source": [
    "mnist_X_train = np.array(mnist[0][0]) / 255\n",
    "mnist_y_train = np.array(mnist[0][1])\n",
    "mnist_X_test = np.array(mnist[1][0]) / 255\n",
    "mnist_y_test = np.array(mnist[1][1])\n",
    "\n",
    "print(mnist_X_train.shape)\n",
    "print(mnist_y_train.shape)\n",
    "print(mnist_X_test.shape)\n",
    "print(mnist_y_test.shape)"
   ]
  },
  {
   "cell_type": "code",
   "execution_count": 4,
   "metadata": {},
   "outputs": [
    {
     "name": "stdout",
     "output_type": "stream",
     "text": [
      "1.0\n"
     ]
    },
    {
     "data": {
      "image/png": "[encoded data removed]",
      "text/plain": [
       "<Figure size 432x288 with 1 Axes>"
      ]
     },
     "metadata": {
      "needs_background": "light"
     },
     "output_type": "display_data"
    }
   ],
   "source": [
    "plt.imshow(mnist_X_train[0, :].reshape(28, 28))\n",
    "print(max(mnist_X_train[0, :, :].reshape(-1)))"
   ]
  },
  {
   "cell_type": "code",
   "execution_count": 5,
   "metadata": {},
   "outputs": [],
   "source": [
    "encoding_size = 10"
   ]
  },
  {
   "cell_type": "code",
   "execution_count": 6,
   "metadata": {},
   "outputs": [],
   "source": [
    "logdir = './tb_logs'\n",
    "tensorboard_callback = keras.callbacks.TensorBoard(logdir, histogram_freq=1)"
   ]
  },
  {
   "cell_type": "code",
   "execution_count": 7,
   "metadata": {},
   "outputs": [
    {
     "name": "stdout",
     "output_type": "stream",
     "text": [
      "WARNING:tensorflow:From /home/wurst/.local/lib/python3.6/site-packages/keras/backend/tensorflow_backend.py:66: The name tf.get_default_graph is deprecated. Please use tf.compat.v1.get_default_graph instead.\n",
      "\n",
      "WARNING:tensorflow:From /home/wurst/.local/lib/python3.6/site-packages/keras/backend/tensorflow_backend.py:541: The name tf.placeholder is deprecated. Please use tf.compat.v1.placeholder instead.\n",
      "\n",
      "WARNING:tensorflow:From /home/wurst/.local/lib/python3.6/site-packages/keras/backend/tensorflow_backend.py:4432: The name tf.random_uniform is deprecated. Please use tf.random.uniform instead.\n",
      "\n",
      "WARNING:tensorflow:From /home/wurst/.local/lib/python3.6/site-packages/keras/optimizers.py:793: The name tf.train.Optimizer is deprecated. Please use tf.compat.v1.train.Optimizer instead.\n",
      "\n",
      "WARNING:tensorflow:From /home/wurst/.local/lib/python3.6/site-packages/keras/backend/tensorflow_backend.py:3657: The name tf.log is deprecated. Please use tf.math.log instead.\n",
      "\n",
      "WARNING:tensorflow:From /home/wurst/anaconda3/envs/tensorflow/lib/python3.6/site-packages/tensorflow/python/ops/nn_impl.py:180: add_dispatch_support.<locals>.wrapper (from tensorflow.python.ops.array_ops) is deprecated and will be removed in a future version.\n",
      "Instructions for updating:\n",
      "Use tf.where in 2.0, which has the same broadcast rule as np.where\n"
     ]
    }
   ],
   "source": [
    "# Simple dense layer model\n",
    "\n",
    "enc_input = l = keras.layers.Input(shape=(28, 28))\n",
    "l = keras.layers.Flatten()(l)\n",
    "l = keras.layers.Dense(200, activation='relu')(l)\n",
    "l = keras.layers.Dense(encoding_size, activation='relu')(l)\n",
    "encoder = keras.models.Model(inputs=enc_input, outputs=l)\n",
    "\n",
    "dec_input = l = keras.layers.Input(shape=(encoding_size,))\n",
    "l = keras.layers.Dense(200, activation='relu')(l)\n",
    "l = keras.layers.Dense(28*28, activation='sigmoid')(l)\n",
    "l = keras.layers.Reshape(target_shape=(28, 28))(l)\n",
    "decoder = keras.models.Model(inputs=dec_input, outputs=l)\n",
    "\n",
    "autocoder = keras.models.Model(inputs=enc_input, outputs=simple_decoder(simple_encoder(enc_input)))\n",
    "\n",
    "autocoder.compile(optimizer='adadelta', loss='binary_crossentropy')"
   ]
  },
  {
   "cell_type": "code",
   "execution_count": 8,
   "metadata": {},
   "outputs": [
    {
     "name": "stdout",
     "output_type": "stream",
     "text": [
      "WARNING:tensorflow:From /home/wurst/.local/lib/python3.6/site-packages/keras/backend/tensorflow_backend.py:1033: The name tf.assign_add is deprecated. Please use tf.compat.v1.assign_add instead.\n",
      "\n",
      "Train on 60000 samples, validate on 10000 samples\n",
      "WARNING:tensorflow:From /home/wurst/.local/lib/python3.6/site-packages/keras/callbacks.py:1120: The name tf.summary.histogram is deprecated. Please use tf.compat.v1.summary.histogram instead.\n",
      "\n",
      "WARNING:tensorflow:From /home/wurst/.local/lib/python3.6/site-packages/keras/callbacks.py:1122: The name tf.summary.merge_all is deprecated. Please use tf.compat.v1.summary.merge_all instead.\n",
      "\n",
      "WARNING:tensorflow:From /home/wurst/.local/lib/python3.6/site-packages/keras/callbacks.py:1125: The name tf.summary.FileWriter is deprecated. Please use tf.compat.v1.summary.FileWriter instead.\n",
      "\n",
      "Epoch 1/40\n",
      "60000/60000 [==============================] - 15s 243us/step - loss: 0.3300 - val_loss: 0.2664\n",
      "Epoch 2/40\n",
      "60000/60000 [==============================] - 14s 233us/step - loss: 0.2602 - val_loss: 0.2508\n",
      "Epoch 3/40\n",
      "60000/60000 [==============================] - 14s 235us/step - loss: 0.2422 - val_loss: 0.2300\n",
      "Epoch 4/40\n",
      "60000/60000 [==============================] - 14s 234us/step - loss: 0.2217 - val_loss: 0.2142\n",
      "Epoch 5/40\n",
      "60000/60000 [==============================] - 14s 233us/step - loss: 0.2091 - val_loss: 0.2034\n",
      "Epoch 6/40\n",
      "60000/60000 [==============================] - 14s 237us/step - loss: 0.1990 - val_loss: 0.1923\n",
      "Epoch 7/40\n",
      "60000/60000 [==============================] - 14s 237us/step - loss: 0.1877 - val_loss: 0.1828\n",
      "Epoch 8/40\n",
      "60000/60000 [==============================] - 14s 241us/step - loss: 0.1809 - val_loss: 0.1780\n",
      "Epoch 9/40\n",
      "60000/60000 [==============================] - 14s 234us/step - loss: 0.1763 - val_loss: 0.1724\n",
      "Epoch 10/40\n",
      "60000/60000 [==============================] - 14s 236us/step - loss: 0.1725 - val_loss: 0.1704\n",
      "Epoch 11/40\n",
      "60000/60000 [==============================] - 14s 237us/step - loss: 0.1690 - val_loss: 0.1649\n",
      "Epoch 12/40\n",
      "60000/60000 [==============================] - 14s 234us/step - loss: 0.1650 - val_loss: 0.1642\n",
      "Epoch 13/40\n",
      "60000/60000 [==============================] - 14s 240us/step - loss: 0.1621 - val_loss: 0.1587\n",
      "Epoch 14/40\n",
      "60000/60000 [==============================] - 14s 238us/step - loss: 0.1597 - val_loss: 0.1566\n",
      "Epoch 15/40\n",
      "60000/60000 [==============================] - 14s 237us/step - loss: 0.1575 - val_loss: 0.1556\n",
      "Epoch 16/40\n",
      "60000/60000 [==============================] - 14s 238us/step - loss: 0.1558 - val_loss: 0.1543\n",
      "Epoch 17/40\n",
      "60000/60000 [==============================] - 14s 236us/step - loss: 0.1541 - val_loss: 0.1528\n",
      "Epoch 18/40\n",
      "60000/60000 [==============================] - 14s 234us/step - loss: 0.1528 - val_loss: 0.1505\n",
      "Epoch 19/40\n",
      "60000/60000 [==============================] - 14s 238us/step - loss: 0.1513 - val_loss: 0.1497\n",
      "Epoch 20/40\n",
      "60000/60000 [==============================] - 14s 237us/step - loss: 0.1502 - val_loss: 0.1480\n",
      "Epoch 21/40\n",
      "60000/60000 [==============================] - 14s 239us/step - loss: 0.1490 - val_loss: 0.1465\n",
      "Epoch 22/40\n",
      "60000/60000 [==============================] - 14s 238us/step - loss: 0.1478 - val_loss: 0.1454\n",
      "Epoch 23/40\n",
      "60000/60000 [==============================] - 16s 269us/step - loss: 0.1467 - val_loss: 0.1444\n",
      "Epoch 24/40\n",
      "60000/60000 [==============================] - 17s 287us/step - loss: 0.1460 - val_loss: 0.1439\n",
      "Epoch 25/40\n",
      "60000/60000 [==============================] - 15s 248us/step - loss: 0.1450 - val_loss: 0.1436\n",
      "Epoch 26/40\n",
      "60000/60000 [==============================] - 15s 252us/step - loss: 0.1441 - val_loss: 0.1425\n",
      "Epoch 27/40\n",
      "60000/60000 [==============================] - 15s 249us/step - loss: 0.1436 - val_loss: 0.1416\n",
      "Epoch 28/40\n",
      "60000/60000 [==============================] - 15s 250us/step - loss: 0.1429 - val_loss: 0.1415\n",
      "Epoch 29/40\n",
      "60000/60000 [==============================] - 15s 252us/step - loss: 0.1421 - val_loss: 0.1416\n",
      "Epoch 30/40\n",
      "60000/60000 [==============================] - 15s 257us/step - loss: 0.1415 - val_loss: 0.1404\n",
      "Epoch 31/40\n",
      "60000/60000 [==============================] - 16s 266us/step - loss: 0.1407 - val_loss: 0.1398\n",
      "Epoch 32/40\n",
      "60000/60000 [==============================] - 15s 245us/step - loss: 0.1403 - val_loss: 0.1386\n",
      "Epoch 33/40\n",
      "60000/60000 [==============================] - 15s 249us/step - loss: 0.1396 - val_loss: 0.1384\n",
      "Epoch 34/40\n",
      "60000/60000 [==============================] - 15s 245us/step - loss: 0.1391 - val_loss: 0.1375\n",
      "Epoch 35/40\n",
      "60000/60000 [==============================] - 15s 244us/step - loss: 0.1386 - val_loss: 0.1375\n",
      "Epoch 36/40\n",
      "60000/60000 [==============================] - 15s 245us/step - loss: 0.1381 - val_loss: 0.1369\n",
      "Epoch 37/40\n",
      "60000/60000 [==============================] - 15s 247us/step - loss: 0.1377 - val_loss: 0.1363\n",
      "Epoch 38/40\n",
      "60000/60000 [==============================] - 15s 244us/step - loss: 0.1371 - val_loss: 0.1354\n",
      "Epoch 39/40\n",
      "60000/60000 [==============================] - 16s 265us/step - loss: 0.1369 - val_loss: 0.1353\n",
      "Epoch 40/40\n",
      "60000/60000 [==============================] - 15s 243us/step - loss: 0.1363 - val_loss: 0.1349\n"
     ]
    },
    {
     "data": {
      "text/plain": [
       "<keras.callbacks.History at 0x7f1e0a928f60>"
      ]
     },
     "execution_count": 8,
     "metadata": {},
     "output_type": "execute_result"
    }
   ],
   "source": [
    "autocoder.fit(\n",
    "    mnist_X_train,\n",
    "    mnist_X_train,\n",
    "    epochs=40, \n",
    "    batch_size=256,\n",
    "    shuffle=True, \n",
    "    validation_data=(mnist_X_test, mnist_X_test),\n",
    "    callbacks=[tensorboard_callback]\n",
    ")"
   ]
  },
  {
   "cell_type": "code",
   "execution_count": null,
   "metadata": {},
   "outputs": [],
   "source": []
  },
  {
   "cell_type": "code",
   "execution_count": 11,
   "metadata": {},
   "outputs": [
    {
     "data": {
      "image/png": "[encoded data removed]",
      "text/plain": [
       "<Figure size 1080x576 with 15 Axes>"
      ]
     },
     "metadata": {
      "needs_background": "light"
     },
     "output_type": "display_data"
    }
   ],
   "source": [
    "plt.figure(figsize=(15, 8))\n",
    "\n",
    "n = 5\n",
    "\n",
    "for i, j in zip(range(n), np.random.randint(0, 10000, size=n)):\n",
    "    original = mnist_X_test[j, :]\n",
    "    encoded = encoder.predict(original.reshape(1, 28, 28))[0]\n",
    "    decoded = decoder.predict(encoded.reshape(1, -1))[0]\n",
    "    \n",
    "    plt.subplot(3, n, i+1)\n",
    "    plt.imshow(original)\n",
    "    \n",
    "    plt.subplot(3, n, i+n+1)\n",
    "    plt.imshow(encoded.reshape(1, -1))\n",
    "\n",
    "    plt.subplot(3, n, i+n+n+1)\n",
    "    plt.imshow(decoded)"
   ]
  },
  {
   "cell_type": "code",
   "execution_count": 23,
   "metadata": {},
   "outputs": [
    {
     "data": {
      "text/plain": [
       "MinMaxScaler(copy=True, feature_range=(0, 1))"
      ]
     },
     "execution_count": 23,
     "metadata": {},
     "output_type": "execute_result"
    }
   ],
   "source": [
    "import sklearn.decomposition\n",
    "\n",
    "# Compute PCA\n",
    "encoded_train_images = encoder.predict(mnist_X_train)\n",
    "encoded_test_images = encoder.predict(mnist_X_test)\n",
    "\n",
    "pca = sklearn.decomposition.PCA(n_components=encoding_size)\n",
    "pca.fit(encoded_train_images)\n",
    "\n",
    "pca_train_images = pca.transform(encoded_train_images)\n",
    "\n",
    "minmax = sklearn.preprocessing.MinMaxScaler()\n",
    "minmax.fit(pca_train_images)"
   ]
  },
  {
   "cell_type": "code",
   "execution_count": 26,
   "metadata": {},
   "outputs": [
    {
     "data": {
      "application/vnd.jupyter.widget-view+json": {
       "model_id": "5957ccfaf660400782f4cbba7dd818dd",
       "version_major": 2,
       "version_minor": 0
      },
      "text/plain": [
       "interactive(children=(FloatSlider(value=0.0, continuous_update=False, description='x1', max=1.0, min=-1.0, ste…"
      ]
     },
     "metadata": {},
     "output_type": "display_data"
    }
   ],
   "source": [
    "import ipywidgets\n",
    "\n",
    "def draw_pca(x1, x2, x3, x4, x5, x6, x7, x8, x9, x10):\n",
    "    vec = np.array([x1, x2, x3, x4, x5, x6, x7, x8, x9, x10]).reshape(1, -1)\n",
    "    plt.imshow(decoder.predict(pca.inverse_transform(minmax.inverse_transform(vec))).reshape(28, 28))\n",
    "\n",
    "ipywidgets.interact(draw_pca, \n",
    "         x1=ipywidgets.FloatSlider(min=-1, max=1, step=0.01, continuous_update=False),\n",
    "         x2=ipywidgets.FloatSlider(min=-1, max=1, step=0.01, continuous_update=False),\n",
    "         x3=ipywidgets.FloatSlider(min=-1, max=1, step=0.01, continuous_update=False),\n",
    "         x4=ipywidgets.FloatSlider(min=-1, max=1, step=0.01, continuous_update=False),\n",
    "         x5=ipywidgets.FloatSlider(min=-1, max=1, step=0.01, continuous_update=False),\n",
    "         x6=ipywidgets.FloatSlider(min=-1, max=1, step=0.01, continuous_update=False),\n",
    "         x7=ipywidgets.FloatSlider(min=-1, max=1, step=0.01, continuous_update=False),\n",
    "         x8=ipywidgets.FloatSlider(min=-1, max=1, step=0.01, continuous_update=False),\n",
    "         x9=ipywidgets.FloatSlider(min=-1, max=1, step=0.01, continuous_update=False),\n",
    "         x10=ipywidgets.FloatSlider(min=-1, max=1, step=0.01, continuous_update=False));"
   ]
  },
  {
   "cell_type": "code",
   "execution_count": null,
   "metadata": {},
   "outputs": [],
   "source": [
    "v = encoded_train_images[2]\n",
    "v"
   ]
  },
  {
   "cell_type": "code",
   "execution_count": null,
   "metadata": {},
   "outputs": [],
   "source": [
    "v2 = pca.transform(v.reshape(1, -1))\n",
    "v2"
   ]
  },
  {
   "cell_type": "code",
   "execution_count": null,
   "metadata": {},
   "outputs": [],
   "source": [
    "plt.imshow(decoder.predict(pca.inverse_transform(v2))[0])"
   ]
  },
  {
   "cell_type": "code",
   "execution_count": null,
   "metadata": {},
   "outputs": [],
   "source": []
  },
  {
   "cell_type": "code",
   "execution_count": null,
   "metadata": {},
   "outputs": [],
   "source": []
  }
 ],
 "metadata": {
  "kernelspec": {
   "display_name": "Python 3",
   "language": "python",
   "name": "python3"
  },
  "language_info": {
   "codemirror_mode": {
    "name": "ipython",
    "version": 3
   },
   "file_extension": ".py",
   "mimetype": "text/x-python",
   "name": "python",
   "nbconvert_exporter": "python",
   "pygments_lexer": "ipython3",
   "version": "3.7.4"
  }
 },
 "nbformat": 4,
 "nbformat_minor": 2
}
