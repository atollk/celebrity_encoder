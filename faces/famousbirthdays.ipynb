{
 "cells": [
  {
   "cell_type": "code",
   "execution_count": 1,
   "metadata": {},
   "outputs": [],
   "source": [
    "from bs4 import BeautifulSoup\n",
    "import requests\n",
    "import calendar\n",
    "import datetime\n",
    "import contextlib\n",
    "import os\n",
    "from IPython.display import clear_output\n",
    "import numpy as np"
   ]
  },
  {
   "cell_type": "code",
   "execution_count": 2,
   "metadata": {},
   "outputs": [],
   "source": [
    "# Helper: displays progress bar\n",
    "\n",
    "def jupyter_progress(percentage):\n",
    "    clear_output(wait=True)\n",
    "    bar_length = 20\n",
    "    block = int(round(percentage * bar_length))\n",
    "    text = \"Progress: [{0}] {1:.1f}%\".format( \"#\" * block + \"-\" * (bar_length - block), percentage * 100)\n",
    "    print(text)"
   ]
  },
  {
   "cell_type": "code",
   "execution_count": 3,
   "metadata": {},
   "outputs": [],
   "source": [
    "# Helper: Given a filename and a function, only runs the function if the file does not exist and then\n",
    "# writes the return value to that file. Afterwards, returns the content of that file.\n",
    "\n",
    "def load_maybe_file(generator, filename, binary=False):\n",
    "    binflag = 'b' if binary else ''\n",
    "    \n",
    "    if not os.path.exists(filename):\n",
    "        data = generator()\n",
    "        if data is not None:\n",
    "            with open(filename, 'w'+binflag) as f:\n",
    "                f.write(data)\n",
    "    with open(filename, 'r'+binflag) as f:\n",
    "        return f.read()"
   ]
  },
  {
   "cell_type": "code",
   "execution_count": 4,
   "metadata": {},
   "outputs": [],
   "source": [
    "# Helper: processes a HTTP request\n",
    "def http_request(url):\n",
    "    try:\n",
    "        with contextlib.closing(requests.get(url, stream=True)) as resp:\n",
    "            content_type = resp.headers['Content-Type'].lower()\n",
    "            is_good_response = (resp.status_code == 200 and content_type is not None)\n",
    "            if is_good_response:\n",
    "                return resp.content\n",
    "            else:\n",
    "                return None\n",
    "    except requests.RequestException as e:\n",
    "        print(\"ERROR!\", str(e))\n",
    "        return None"
   ]
  },
  {
   "cell_type": "code",
   "execution_count": 5,
   "metadata": {},
   "outputs": [],
   "source": [
    "# For a given day (as datetime.date object), finds top 48 celebrities (by id name) with that birthday.\n",
    "\n",
    "def get_top_day_html(date):\n",
    "    day_string = calendar.month_name[date.month].lower() + str(date.day)\n",
    "    url = 'https://www.famousbirthdays.com/{}.html'.format(day_string)\n",
    "    return http_request(url)\n",
    "    \n",
    "def get_top_day_celebrities(date):\n",
    "    html = get_day_html(date)\n",
    "    bs = BeautifulSoup(html, 'html.parser')\n",
    "\n",
    "    for a in bs.select('a'):\n",
    "        if 'class' in a.attrs and a['class'] == ['face', 'person-item']:\n",
    "            yield a['href'].replace('https://www.famousbirthdays.com/people/', '').replace('.html', '')"
   ]
  },
  {
   "cell_type": "code",
   "execution_count": 6,
   "metadata": {},
   "outputs": [],
   "source": [
    "def generate_celeb_ids():\n",
    "    # Collect all days in a year.\n",
    "    dates = []\n",
    "    for mon in range(1, 13):\n",
    "        for day in range(1, 32):\n",
    "            try:\n",
    "                dates.append(datetime.date(datetime.MINYEAR, mon, day))\n",
    "            except ValueError:\n",
    "                pass\n",
    "\n",
    "    # Collect all top celebrities from all days.\n",
    "    celebs = []\n",
    "    i = 0.0\n",
    "    for date in dates:\n",
    "        i += 1\n",
    "        jupyter_progress(i / len(dates))\n",
    "        celebs += list(get_top_day_celebrities(date))\n",
    "        \n",
    "    \"\\n\".join(celebs)"
   ]
  },
  {
   "cell_type": "code",
   "execution_count": 7,
   "metadata": {},
   "outputs": [
    {
     "data": {
      "text/plain": [
       "17520"
      ]
     },
     "execution_count": 7,
     "metadata": {},
     "output_type": "execute_result"
    }
   ],
   "source": [
    "celeb_ids = load_maybe_file(generate_celeb_ids, 'data/celeb_ids.txt').split(\"\\n\")\n",
    "\n",
    "len(celeb_ids)"
   ]
  },
  {
   "cell_type": "code",
   "execution_count": 8,
   "metadata": {},
   "outputs": [],
   "source": [
    "# given a celebrity ID (e.g. chase-rice), scrapes the page \n",
    "# (https://www.famousbirthdays.com/people/chase-rice.html) for all photos and returns their URLs.\n",
    "\n",
    "def get_person_page_html(id):\n",
    "    url = 'https://www.famousbirthdays.com/people/{}.html'.format(id)\n",
    "    return http_request(url)\n",
    "\n",
    "def scrape_photo_urls(id):\n",
    "    html = get_person_page_html(id)\n",
    "    bs = BeautifulSoup(html, 'html.parser')\n",
    "    image_tags = bs.find_all('img')\n",
    "    for img in image_tags:\n",
    "        if 'src' in img.attrs:\n",
    "            src = img['src']\n",
    "            if 'faces' in src or 'headshots' in src:\n",
    "                yield src"
   ]
  },
  {
   "cell_type": "code",
   "execution_count": 9,
   "metadata": {},
   "outputs": [],
   "source": [
    "def generate_celeb_photos():\n",
    "    result = []\n",
    "    i = 0.0\n",
    "    for celeb in celeb_ids:\n",
    "        i += 1\n",
    "        jupyter_progress(i / len(celeb_ids))\n",
    "        print(celeb)\n",
    "        result.append(\"\\n\".join(scrape_photo_urls(celeb)))\n",
    "    return \"\\n\\n\".join(result)"
   ]
  },
  {
   "cell_type": "code",
   "execution_count": 10,
   "metadata": {},
   "outputs": [],
   "source": [
    "celeb_photos = load_maybe_file(generate_celeb_photos, 'data/celeb_photos.txt')"
   ]
  },
  {
   "cell_type": "code",
   "execution_count": 11,
   "metadata": {},
   "outputs": [
    {
     "name": "stdout",
     "output_type": "stream",
     "text": [
      "15339\n",
      "67503\n"
     ]
    }
   ],
   "source": [
    "# Load photo URLs\n",
    "\n",
    "bad_images = set(['https://www.famousbirthdays.com/faces/large-default.jpg'])\n",
    "\n",
    "photo_urls_faces = [] # main picture\n",
    "photo_urls_headshots = [] # secondary pictures\n",
    "for person in celeb_photos.split(\"\\n\\n\"):\n",
    "    for photo in person.split(\"\\n\"):\n",
    "        if photo not in bad_images:\n",
    "            if 'https://www.famousbirthdays.com/faces/' in photo:\n",
    "                photo_urls_faces.append(photo)\n",
    "            else:\n",
    "                photo_urls_headshots.append(photo)\n",
    "   \n",
    "            \n",
    "            \n",
    "print(len(photo_urls_faces))\n",
    "print(len(photo_urls_headshots))\n"
   ]
  },
  {
   "cell_type": "code",
   "execution_count": 12,
   "metadata": {},
   "outputs": [
    {
     "data": {
      "text/plain": [
       "'https://www.famousbirthdays.com/faces/poppy-that-image.jpg'"
      ]
     },
     "execution_count": 12,
     "metadata": {},
     "output_type": "execute_result"
    }
   ],
   "source": [
    "photo_urls_faces[0]"
   ]
  },
  {
   "cell_type": "code",
   "execution_count": 13,
   "metadata": {},
   "outputs": [],
   "source": [
    "def download_photo(url):\n",
    "    photo_name = url.split('/')[-1]\n",
    "    with open('photos/' + photo_name, 'wb') as f:\n",
    "        f.write(http_request(url))\n",
    "\n",
    "try:\n",
    "    os.mkdir(\"photos\")\n",
    "except FileExistsError:\n",
    "    pass\n",
    "\n",
    "try:\n",
    "    os.mkdir(\"photos/faces\")\n",
    "except FileExistsError:\n",
    "    pass\n",
    "\n",
    "try:\n",
    "    os.mkdir(\"photos/headshots\")\n",
    "except FileExistsError:\n",
    "    pass"
   ]
  },
  {
   "cell_type": "code",
   "execution_count": 14,
   "metadata": {},
   "outputs": [
    {
     "name": "stdout",
     "output_type": "stream",
     "text": [
      "Progress: [####################] 100.0%\n"
     ]
    }
   ],
   "source": [
    "# Download all photos as images to ./photo/\n",
    "i = 0.0\n",
    "for p in photo_urls_faces:\n",
    "    i += 1\n",
    "    jupyter_progress(i / len(photo_urls_faces))\n",
    "    try:\n",
    "        load_maybe_file(lambda: http_request(p), 'photos/faces/' + p.split('/')[-1], binary=True)\n",
    "    except FileNotFoundError:\n",
    "        pass"
   ]
  },
  {
   "cell_type": "code",
   "execution_count": null,
   "metadata": {},
   "outputs": [],
   "source": [
    "i = 0.0\n",
    "for p in photo_urls_headshots:\n",
    "    i += 1\n",
    "    jupyter_progress(i / len(photo_urls_headshots))\n",
    "    load_maybe_file(lambda: http_request(p), 'photos/headshots/' + p.split('/')[-1], binary=True)"
   ]
  }
 ],
 "metadata": {
  "kernelspec": {
   "display_name": "Python 3",
   "language": "python",
   "name": "python3"
  },
  "language_info": {
   "codemirror_mode": {
    "name": "ipython",
    "version": 3
   },
   "file_extension": ".py",
   "mimetype": "text/x-python",
   "name": "python",
   "nbconvert_exporter": "python",
   "pygments_lexer": "ipython3",
   "version": "3.7.4"
  }
 },
 "nbformat": 4,
 "nbformat_minor": 2
}
